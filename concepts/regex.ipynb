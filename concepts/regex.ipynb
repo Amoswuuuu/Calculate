{
 "cells": [
  {
   "cell_type": "markdown",
   "metadata": {},
   "source": [
    "### Retrieving tokens from math expressions"
   ]
  },
  {
   "cell_type": "markdown",
   "metadata": {},
   "source": [
    "Using regular expressions"
   ]
  },
  {
   "cell_type": "code",
   "execution_count": 1,
   "metadata": {
    "collapsed": false
   },
   "outputs": [],
   "source": [
    "from collections import OrderedDict\n",
    "import re\n",
    "\n",
    "categories = {\n",
    "    'operator': ['+', '-', '*', '/', '**'],\n",
    "    'function': ['exp', 'log', 'sin', 'cos', 'tan'],\n",
    "    'constant': ['pi', 'e'],\n",
    "    'variable': ['x', 'y'],\n",
    "}\n",
    "\n",
    "individual_regexes = OrderedDict([\n",
    "    ('constant', r'(?:(?<![A-Za-z_\\d\\.)])[+\\-])?'\n",
    "                 '(?:\\d+\\.?\\d*|\\.\\d+)+'\n",
    "                 '(?:[eE][+\\-]?\\d+)?'),\n",
    "    ('symbol', r'[A-Za-z_]+[A-Za-z_\\d]*'),\n",
    "    ('operator', r'[^A-Za-z\\d(),\\s]+'),\n",
    "    ('left_parenthesis', r'\\('),\n",
    "    ('right_parenthesis', r'\\)'),\n",
    "    ('separator', r','),\n",
    "])\n",
    "\n",
    "regex = re.compile('|'.join([\n",
    "    r'(?P<{category}>{regex})'.format(category=category, regex=regex)\n",
    "    for category, regex in individual_regexes.items()\n",
    "]))\n",
    "\n",
    "\n",
    "def parse(pair):\n",
    "    category, token = (pair[0], pair[1])\n",
    "    if category in ['operator', 'symbol']:\n",
    "        category, _ = next(\n",
    "            (pair for pair in categories.items() if token in pair[1]),\n",
    "            ('undefined_symbol', token)\n",
    "        )\n",
    "    return {category: token}\n",
    "\n",
    "\n",
    "def tokenize(expression):\n",
    "    return list(map(\n",
    "        lambda match: parse(next(\n",
    "            (pair for pair in match.groupdict().items()\n",
    "             if pair[1] is not None)\n",
    "        )),\n",
    "        re.finditer(regex, expression)\n",
    "    ))"
   ]
  },
  {
   "cell_type": "markdown",
   "metadata": {},
   "source": [
    "Global regex used (paste it to [regex101.com](https://regex101.com) and have fun!):"
   ]
  },
  {
   "cell_type": "code",
   "execution_count": 2,
   "metadata": {
    "collapsed": false
   },
   "outputs": [
    {
     "name": "stdout",
     "output_type": "stream",
     "text": [
      "(?P<constant>(?:(?<![A-Za-z_\\d\\.)])[+\\-])?(?:\\d+\\.?\\d*|\\.\\d+)+(?:[eE][+\\-]?\\d+)?)|(?P<symbol>[A-Za-z_]+[A-Za-z_\\d]*)|(?P<operator>[^A-Za-z\\d(),\\s]+)|(?P<left_parenthesis>\\()|(?P<right_parenthesis>\\))|(?P<separator>,)\n"
     ]
    }
   ],
   "source": [
    "print(regex.pattern)"
   ]
  },
  {
   "cell_type": "markdown",
   "metadata": {},
   "source": [
    "Lets extract some tokens from an expression:"
   ]
  },
  {
   "cell_type": "code",
   "execution_count": 3,
   "metadata": {
    "collapsed": false
   },
   "outputs": [
    {
     "data": {
      "text/plain": [
       "[{'constant': '4'},\n",
       " {'operator': '-'},\n",
       " {'constant': '3'},\n",
       " {'operator': '*'},\n",
       " {'function': 'sin'},\n",
       " {'left_parenthesis': '('},\n",
       " {'constant': '2'},\n",
       " {'operator': '*'},\n",
       " {'constant': 'pi'},\n",
       " {'operator': '*'},\n",
       " {'variable': 'x'},\n",
       " {'right_parenthesis': ')'}]"
      ]
     },
     "execution_count": 3,
     "metadata": {},
     "output_type": "execute_result"
    }
   ],
   "source": [
    "tokenize('4-3*sin(2*pi*x)')"
   ]
  },
  {
   "cell_type": "markdown",
   "metadata": {},
   "source": [
    "Copyright 2016 **Alberto Lorenzo**\n",
    "Released under **[MIT](https://opensource.org/licenses/MIT) License**"
   ]
  }
 ],
 "metadata": {
  "anaconda-cloud": {},
  "kernelspec": {
   "display_name": "Python 2",
   "language": "python",
   "name": "python2"
  },
  "language_info": {
   "codemirror_mode": {
    "name": "ipython",
    "version": 2
   },
   "file_extension": ".py",
   "mimetype": "text/x-python",
   "name": "python",
   "nbconvert_exporter": "python",
   "pygments_lexer": "ipython2",
   "version": "2.7.11"
  }
 },
 "nbformat": 4,
 "nbformat_minor": 1
}
